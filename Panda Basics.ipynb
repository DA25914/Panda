{
 "cells": [
  {
   "cell_type": "markdown",
   "metadata": {},
   "source": [
    "# Collecting Data with Panda"
   ]
  },
  {
   "cell_type": "markdown",
   "metadata": {},
   "source": [
    "## Collecting Data\n",
    "* Run block \"Start Panda\" from a termnial with the same path as this notebook\n",
    "    * The reason for this is that you have to interact with the terminal after QEMU boots\n",
    "* To start recording the session\n",
    "    * `begin_record <recording_name>`\n",
    "* To end the recording \n",
    "    * `end_record`"
   ]
  },
  {
   "cell_type": "code",
   "execution_count": 12,
   "metadata": {
    "collapsed": false
   },
   "outputs": [
    {
     "name": "stdout",
     "output_type": "stream",
     "text": [
      "QEMU 2.8.50 monitor - type 'help' for more information\r\n",
      "(qemu) "
     ]
    }
   ],
   "source": [
    "%%bash\n",
    ". ~/.bashrc #Start Panda (Run from terminal)\n",
    ".././qemu-system-i386 -hda wheezy_panda2.qcow2 -m 3500 -net nic -net user -monitor stdio"
   ]
  },
  {
   "cell_type": "markdown",
   "metadata": {},
   "source": [
    "## Collect System Call Data\n",
    "* Run block \"Collect System Call Data\" \n",
    "    * Change for the correct `./Recordings/<recording_name>` \n",
    "    * Change the output filename `<raw.txt>`"
   ]
  },
  {
   "cell_type": "code",
   "execution_count": 16,
   "metadata": {
    "collapsed": false
   },
   "outputs": [
    {
     "name": "stderr",
     "output_type": "stream",
     "text": [
      "Initializing plugin syscalls2\n"
     ]
    }
   ],
   "source": [
    "%%bash\n",
    ". ~/.bashrc #Collect System Call Data \n",
    ".././qemu-system-i386 -m 3500 -replay ./Recordings/gitPull -panda syscalls2:profile=linux_x86 -os linux-32-lava32 \\\n",
    "    > raw.txt"
   ]
  },
  {
   "cell_type": "code",
   "execution_count": 26,
   "metadata": {
    "collapsed": true
   },
   "outputs": [],
   "source": [
    "#Imports \n",
    "import glob #used for file IO\n",
    "import csv #used to write csv file\\n"
   ]
  },
  {
   "cell_type": "code",
   "execution_count": 157,
   "metadata": {
    "collapsed": false
   },
   "outputs": [],
   "source": [
    "#Parse file to readable .csv file\n",
    "raw = \"raw.txt\" #this should match the filename in \n",
    "out = \"gitPull.csv\"\n",
    "rawFile = open(raw)\n",
    "csvFile = open(\"Recordings/Data/\"+out, 'w')\n",
    "csvWriter = csv.writer(csvFile)\n",
    "csvWriter.writerow(['Program Counter', 'Panda Current ASID', 'System Number',\n",
    "                    'Syscall Reutrn Type','Syste Call Name']) #header\n",
    "setupSyscall()\n",
    "for line in rawFile:\n",
    "    words =  line.split(\" \")\n",
    "    if(words[0] == \"Syscall:\"):\n",
    "        csvWriter.writerow( [words[1].strip(), words[2].strip(), words[3].strip(),\n",
    "                             syscalls[int(words[3])], syscalls[int(words[3])]])\n",
    "rawFile.close()\n",
    "csvFile.close()"
   ]
  },
  {
   "cell_type": "code",
   "execution_count": 150,
   "metadata": {
    "collapsed": false
   },
   "outputs": [],
   "source": [
    "#Returns more information on the System Call\n",
    "def setupSyscall():\n",
    "    syscalltype = open(\"../../panda/plugins/syscalls2/linux_x86_prototypes.txt\")\n",
    "    syscalls = {}\n",
    "    for line in syscalltype:\n",
    "        words = line.split(\" \")\n",
    "        syscalls[int(words[0])] = [words[1],\" \".join(words[2:]).strip()]\n"
   ]
  },
  {
   "cell_type": "code",
   "execution_count": null,
   "metadata": {
    "collapsed": true
   },
   "outputs": [],
   "source": []
  }
 ],
 "metadata": {
  "kernelspec": {
   "display_name": "Python 3",
   "language": "python",
   "name": "python3"
  },
  "language_info": {
   "codemirror_mode": {
    "name": "ipython",
    "version": 3
   },
   "file_extension": ".py",
   "mimetype": "text/x-python",
   "name": "python",
   "nbconvert_exporter": "python",
   "pygments_lexer": "ipython3",
   "version": "3.6.0"
  }
 },
 "nbformat": 4,
 "nbformat_minor": 2
}
