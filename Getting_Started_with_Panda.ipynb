{
 "cells": [
  {
   "cell_type": "markdown",
   "metadata": {},
   "source": [
    "# Collecting Data with Panda"
   ]
  },
  {
   "cell_type": "markdown",
   "metadata": {},
   "source": [
    "## Runing Panda\n",
    "* Run block \"Start Panda\" from a termnial with the same path as this notebook\n",
    "    * The reason for this is that you have to interact with the terminal after QEMU boots\n",
    "* To start recording the session\n",
    "    * `begin_record <recording_name>`\n",
    "* To end the recording \n",
    "    * `end_record`"
   ]
  },
  {
   "cell_type": "code",
   "execution_count": 170,
   "metadata": {
    "collapsed": false,
    "scrolled": true
   },
   "outputs": [
    {
     "name": "stdout",
     "output_type": "stream",
     "text": [
      "QEMU 2.8.50 monitor - type 'help' for more information\r\n",
      "(qemu) "
     ]
    }
   ],
   "source": [
    "%%bash\n",
    ". ~/.bashrc #Start Panda (Run from terminal)\n",
    ".././qemu-system-i386 -hda OS/wheezy_panda2.qcow2 -m 3500 -net nic -net user -monitor stdio"
   ]
  },
  {
   "cell_type": "markdown",
   "metadata": {},
   "source": [
    "## Runing Asidstory\n",
    "* Run block \"Collect System Call Data\" \n",
    "    * Change for the correct `./Recordings/<recording_name>` \n",
    "    * Change the output filename `<gitPull_raw.txt>`"
   ]
  },
  {
   "cell_type": "code",
   "execution_count": 178,
   "metadata": {
    "collapsed": false
   },
   "outputs": [
    {
     "name": "stdout",
     "output_type": "stream",
     "text": [
      "os_type=2 bits=32 os_details=[lava32]\n",
      "panda_require: osi\n",
      "Looking for kconffile in /opt/panda3/panda/i386-softmmu/Debian7/.././panda/plugins/osi_linux/kernelinfo.conf\n",
      "OSI grabbing Linux introspection backend.\n",
      "Linux OSI, using group lava32:32 from /opt/panda3/panda/i386-softmmu/panda/plugins/osi_linux/kernelinfo.conf.\n",
      "panda_require: osi_linux\n",
      "loading snapshot\n",
      "... done.\n",
      "opening nondet log for read :\t./Recordings/gitPull-rr-nondet.log\n",
      "max_instr = 455574782\n",
      "./Recordings/gitPull-rr-nondet.log:   455574782 instrs total.\n",
      "gitPull:     4614315 (  1.01%) instrs.    2.03 sec.  0.20 GB ram.\n",
      "gitPull:     9140961 (  2.01%) instrs.    3.05 sec.  0.21 GB ram.\n",
      "gitPull:    13673790 (  3.00%) instrs.    4.28 sec.  0.21 GB ram.\n",
      "gitPull:    18307630 (  4.02%) instrs.    5.73 sec.  0.22 GB ram.\n",
      "gitPull:    22793970 (  5.00%) instrs.    7.03 sec.  0.22 GB ram.\n",
      "gitPull:    27473083 (  6.03%) instrs.    8.52 sec.  0.22 GB ram.\n",
      "gitPull:    31936548 (  7.01%) instrs.    9.85 sec.  0.22 GB ram.\n",
      "gitPull:    36482125 (  8.01%) instrs.   10.65 sec.  0.22 GB ram.\n",
      "gitPull:    41351671 (  9.08%) instrs.   12.40 sec.  0.22 GB ram.\n",
      "gitPull:    46080265 ( 10.11%) instrs.   14.02 sec.  0.22 GB ram.\n",
      "gitPull:    50409744 ( 11.07%) instrs.   15.53 sec.  0.22 GB ram.\n",
      "gitPull:    55248224 ( 12.13%) instrs.   17.22 sec.  0.22 GB ram.\n",
      "gitPull:    59456362 ( 13.05%) instrs.   18.66 sec.  0.22 GB ram.\n",
      "gitPull:    64367536 ( 14.13%) instrs.   20.30 sec.  0.22 GB ram.\n",
      "gitPull:    68586709 ( 15.05%) instrs.   21.71 sec.  0.22 GB ram.\n",
      "gitPull:    73421343 ( 16.12%) instrs.   23.36 sec.  0.22 GB ram.\n",
      "gitPull:    77736724 ( 17.06%) instrs.   24.81 sec.  0.22 GB ram.\n",
      "gitPull:    82228153 ( 18.05%) instrs.   26.30 sec.  0.22 GB ram.\n",
      "gitPull:    86603526 ( 19.01%) instrs.   27.83 sec.  0.22 GB ram.\n",
      "gitPull:    91542270 ( 20.09%) instrs.   29.49 sec.  0.22 GB ram.\n",
      "gitPull:    95880860 ( 21.05%) instrs.   30.94 sec.  0.22 GB ram.\n",
      "gitPull:   100787970 ( 22.12%) instrs.   32.57 sec.  0.22 GB ram.\n",
      "gitPull:   105001357 ( 23.05%) instrs.   33.97 sec.  0.22 GB ram.\n",
      "gitPull:   109541616 ( 24.04%) instrs.   35.50 sec.  0.22 GB ram.\n",
      "gitPull:   113897046 ( 25.00%) instrs.   36.94 sec.  0.22 GB ram.\n",
      "gitPull:   118557203 ( 26.02%) instrs.   38.38 sec.  0.22 GB ram.\n",
      "gitPull:   123645082 ( 27.14%) instrs.   39.99 sec.  0.22 GB ram.\n",
      "gitPull:   128067728 ( 28.11%) instrs.   41.37 sec.  0.22 GB ram.\n",
      "gitPull:   132614149 ( 29.11%) instrs.   42.78 sec.  0.22 GB ram.\n",
      "gitPull:   137147263 ( 30.10%) instrs.   44.20 sec.  0.22 GB ram.\n",
      "gitPull:   141670453 ( 31.10%) instrs.   45.60 sec.  0.22 GB ram.\n",
      "gitPull:   146190188 ( 32.09%) instrs.   47.01 sec.  0.22 GB ram.\n",
      "gitPull:   150629805 ( 33.06%) instrs.   48.40 sec.  0.22 GB ram.\n",
      "gitPull:   155241624 ( 34.08%) instrs.   49.82 sec.  0.22 GB ram.\n",
      "gitPull:   159771333 ( 35.07%) instrs.   51.23 sec.  0.22 GB ram.\n",
      "gitPull:   164733871 ( 36.16%) instrs.   52.83 sec.  0.22 GB ram.\n",
      "gitPull:   168950939 ( 37.09%) instrs.   54.20 sec.  0.22 GB ram.\n",
      "gitPull:   173321797 ( 38.04%) instrs.   55.60 sec.  0.22 GB ram.\n",
      "gitPull:   177683089 ( 39.00%) instrs.   57.00 sec.  0.22 GB ram.\n",
      "gitPull:   182652665 ( 40.09%) instrs.   58.62 sec.  0.22 GB ram.\n",
      "gitPull:   187027904 ( 41.05%) instrs.   60.04 sec.  0.22 GB ram.\n",
      "gitPull:   191374084 ( 42.01%) instrs.   61.43 sec.  0.22 GB ram.\n",
      "gitPull:   196437213 ( 43.12%) instrs.   63.06 sec.  0.22 GB ram.\n",
      "gitPull:   200785439 ( 44.07%) instrs.   64.48 sec.  0.22 GB ram.\n",
      "gitPull:   205133061 ( 45.03%) instrs.   65.90 sec.  0.22 GB ram.\n",
      "gitPull:   209664439 ( 46.02%) instrs.   67.40 sec.  0.22 GB ram.\n",
      "gitPull:   214173136 ( 47.01%) instrs.   68.88 sec.  0.22 GB ram.\n",
      "gitPull:   219183710 ( 48.11%) instrs.   70.52 sec.  0.22 GB ram.\n",
      "gitPull:   223463381 ( 49.05%) instrs.   71.91 sec.  0.22 GB ram.\n",
      "gitPull:   227829180 ( 50.01%) instrs.   73.34 sec.  0.22 GB ram.\n",
      "gitPull:   232786384 ( 51.10%) instrs.   75.00 sec.  0.22 GB ram.\n",
      "gitPull:   237114211 ( 52.05%) instrs.   76.44 sec.  0.22 GB ram.\n",
      "gitPull:   242139594 ( 53.15%) instrs.   78.07 sec.  0.22 GB ram.\n",
      "gitPull:   246489563 ( 54.11%) instrs.   79.47 sec.  0.22 GB ram.\n",
      "gitPull:   250827974 ( 55.06%) instrs.   80.86 sec.  0.22 GB ram.\n",
      "gitPull:   255138274 ( 56.00%) instrs.   82.27 sec.  0.22 GB ram.\n",
      "gitPull:   260071361 ( 57.09%) instrs.   83.87 sec.  0.22 GB ram.\n",
      "gitPull:   264307293 ( 58.02%) instrs.   85.22 sec.  0.22 GB ram.\n",
      "gitPull:   269143142 ( 59.08%) instrs.   86.81 sec.  0.22 GB ram.\n",
      "gitPull:   273351639 ( 60.00%) instrs.   88.17 sec.  0.22 GB ram.\n",
      "gitPull:   278156638 ( 61.06%) instrs.   89.71 sec.  0.22 GB ram.\n",
      "gitPull:   283130362 ( 62.15%) instrs.   91.30 sec.  0.22 GB ram.\n",
      "gitPull:   287453501 ( 63.10%) instrs.   92.68 sec.  0.22 GB ram.\n",
      "gitPull:   291651517 ( 64.02%) instrs.   94.03 sec.  0.22 GB ram.\n",
      "gitPull:   296624208 ( 65.11%) instrs.   95.63 sec.  0.22 GB ram.\n",
      "gitPull:   300898627 ( 66.05%) instrs.   96.99 sec.  0.22 GB ram.\n",
      "gitPull:   305772578 ( 67.12%) instrs.   98.57 sec.  0.22 GB ram.\n",
      "gitPull:   309791825 ( 68.00%) instrs.   99.85 sec.  0.22 GB ram.\n",
      "gitPull:   314520835 ( 69.04%) instrs.  101.35 sec.  0.22 GB ram.\n",
      "gitPull:   319132499 ( 70.05%) instrs.  102.83 sec.  0.22 GB ram.\n",
      "gitPull:   323682307 ( 71.05%) instrs.  104.30 sec.  0.22 GB ram.\n",
      "gitPull:   328664993 ( 72.14%) instrs.  105.89 sec.  0.22 GB ram.\n",
      "gitPull:   332580839 ( 73.00%) instrs.  107.18 sec.  0.22 GB ram.\n",
      "gitPull:   337365811 ( 74.05%) instrs.  108.38 sec.  0.22 GB ram.\n",
      "gitPull:   342166783 ( 75.11%) instrs.  109.61 sec.  0.22 GB ram.\n",
      "gitPull:   346853987 ( 76.14%) instrs.  111.09 sec.  0.22 GB ram.\n",
      "gitPull:   351179858 ( 77.09%) instrs.  112.45 sec.  0.22 GB ram.\n",
      "gitPull:   355431895 ( 78.02%) instrs.  113.79 sec.  0.22 GB ram.\n",
      "gitPull:   360025399 ( 79.03%) instrs.  115.23 sec.  0.22 GB ram.\n",
      "gitPull:   364576891 ( 80.03%) instrs.  116.68 sec.  0.22 GB ram.\n",
      "gitPull:   369539161 ( 81.11%) instrs.  118.26 sec.  0.22 GB ram.\n",
      "gitPull:   373796842 ( 82.05%) instrs.  119.62 sec.  0.22 GB ram.\n",
      "gitPull:   378723006 ( 83.13%) instrs.  121.16 sec.  0.22 GB ram.\n",
      "gitPull:   382709265 ( 84.01%) instrs.  122.44 sec.  0.22 GB ram.\n",
      "gitPull:   387326312 ( 85.02%) instrs.  123.90 sec.  0.22 GB ram.\n",
      "gitPull:   392256384 ( 86.10%) instrs.  125.45 sec.  0.22 GB ram.\n",
      "gitPull:   396827394 ( 87.10%) instrs.  126.89 sec.  0.22 GB ram.\n",
      "gitPull:   401126029 ( 88.05%) instrs.  128.22 sec.  0.22 GB ram.\n",
      "gitPull:   405971052 ( 89.11%) instrs.  129.76 sec.  0.22 GB ram.\n",
      "gitPull:   410164181 ( 90.03%) instrs.  131.08 sec.  0.22 GB ram.\n",
      "gitPull:   414700153 ( 91.03%) instrs.  132.36 sec.  0.22 GB ram.\n",
      "gitPull:   419648813 ( 92.11%) instrs.  133.85 sec.  0.22 GB ram.\n",
      "gitPull:   423931778 ( 93.05%) instrs.  134.95 sec.  0.22 GB ram.\n",
      "gitPull:   428280074 ( 94.01%) instrs.  136.31 sec.  0.23 GB ram.\n",
      "gitPull:   432902202 ( 95.02%) instrs.  137.66 sec.  0.24 GB ram.\n",
      "gitPull:   437364981 ( 96.00%) instrs.  138.50 sec.  0.24 GB ram.\n",
      "gitPull:   442087074 ( 97.04%) instrs.  139.24 sec.  0.24 GB ram.\n",
      "gitPull:   446616717 ( 98.03%) instrs.  140.57 sec.  0.24 GB ram.\n",
      "gitPull:   451184454 ( 99.04%) instrs.  141.66 sec.  0.25 GB ram.\n",
      "./Recordings/gitPull-rr-nondet.log:  log is empty.\n",
      "Replay completed successfully. 1\n",
      "Time taken was: 143 seconds.\n",
      "Stats:\n",
      "RR_INPUT_1 number = 0, size = 0 bytes\n",
      "RR_INPUT_2 number = 0, size = 0 bytes\n",
      "RR_INPUT_4 number = 2392, size = 33488 bytes\n",
      "RR_INPUT_8 number = 16147, size = 290646 bytes\n",
      "RR_INTERRUPT_REQUEST number = 4633, size = 64862 bytes\n",
      "RR_EXIT_REQUEST number = 0, size = 0 bytes\n",
      "RR_SKIPPED_CALL number = 68, size = 8731 bytes\n",
      "max_queue_len = 325\n",
      "Replay completed successfully 2.\n"
     ]
    },
    {
     "name": "stderr",
     "output_type": "stream",
     "text": [
      "Initializing plugin asidstory\n",
      "Initializing plugin osi\n",
      "Initializing plugin osi_linux\n",
      "INFO(/opt/panda3/panda/panda/plugins/osi_linux/osi_linux.cpp:init_plugin): Read kernel info from group \"lava32:32\" of file \"/opt/panda3/panda/i386-softmmu/panda/plugins/osi_linux/kernelinfo.conf\".\n",
      "INFO(/opt/panda3/panda/panda/plugins/osi_linux/osi_linux.cpp:init_plugin): osi_linux initialization complete.\n"
     ]
    }
   ],
   "source": [
    "%%bash\n",
    ". ~/.bashrc #Collect Pandalog Data\n",
    ".././qemu-system-i386 -m 3500 -replay ./Recordings/gitPull -panda asidstory -os linux-32-lava32"
   ]
  },
  {
   "cell_type": "markdown",
   "metadata": {},
   "source": [
    "## Running Syscall2\n",
    "* Run block \"Collect System Call Data\" \n",
    "    * Change for the correct `./Recordings/<recording_name>` \n",
    "    * Change the output filename `Syscall_Data/<gitPull_raw.txt>`"
   ]
  },
  {
   "cell_type": "code",
   "execution_count": 179,
   "metadata": {
    "collapsed": false
   },
   "outputs": [
    {
     "name": "stderr",
     "output_type": "stream",
     "text": [
      "Initializing plugin syscalls2\n"
     ]
    }
   ],
   "source": [
    "%%bash\n",
    ". ~/.bashrc #Collect System Call Data \n",
    ".././qemu-system-i386 -m 3500 -replay ./Recordings/gitPull -panda syscalls2:profile=linux_x86 -os linux-32-lava32 \\\n",
    "    > Syscall_Data/gitPull_raw1.txt"
   ]
  },
  {
   "cell_type": "markdown",
   "metadata": {},
   "source": [
    "## Parsing Syscall2 Data\n",
    "* Run the following three blocks of code\n",
    "    * Imports\n",
    "    * "
   ]
  },
  {
   "cell_type": "code",
   "execution_count": 26,
   "metadata": {
    "collapsed": true
   },
   "outputs": [],
   "source": [
    "#Imports \n",
    "import glob #used for file IO\n",
    "import csv #used to write csv file\\n"
   ]
  },
  {
   "cell_type": "code",
   "execution_count": 180,
   "metadata": {
    "collapsed": false
   },
   "outputs": [],
   "source": [
    "#Parse file to readable .csv file\n",
    "raw = \"gitPull_raw1.txt\" #this should match the filename in \n",
    "out = \"gitPull1.csv\"\n",
    "rawFile = open(\"Syscall_Data/\"+raw)\n",
    "csvFile = open(\"Syscall_Data/\"+out, 'w')\n",
    "csvWriter = csv.writer(csvFile)\n",
    "csvWriter.writerow(['Program Counter', 'Panda Current ASID', 'System Number',\n",
    "                    'Syscall Return Type','System Call Name']) #header\n",
    "setupSyscall()\n",
    "for line in rawFile:\n",
    "    words =  line.split(\" \")\n",
    "    if(words[0] == \"Syscall:\"):\n",
    "        csvWriter.writerow( [words[1].strip(), words[2].strip(), words[3].strip(),\n",
    "                             syscalls[int(words[3])][0], syscalls[int(words[3])][1]])\n",
    "rawFile.close()\n",
    "csvFile.close()"
   ]
  },
  {
   "cell_type": "code",
   "execution_count": 150,
   "metadata": {
    "collapsed": false
   },
   "outputs": [],
   "source": [
    "#Returns more information on the System Call\n",
    "def setupSyscall():\n",
    "    syscalltype = open(\"../../panda/plugins/syscalls2/linux_x86_prototypes.txt\")\n",
    "    syscalls = {}\n",
    "    for line in syscalltype:\n",
    "        words = line.split(\" \")\n",
    "        syscalls[int(words[0])] = [words[1],\" \".join(words[2:]).strip()]\n"
   ]
  },
  {
   "cell_type": "code",
   "execution_count": null,
   "metadata": {
    "collapsed": true
   },
   "outputs": [],
   "source": []
  }
 ],
 "metadata": {
  "kernelspec": {
   "display_name": "Python 3",
   "language": "python",
   "name": "python3"
  },
  "language_info": {
   "codemirror_mode": {
    "name": "ipython",
    "version": 3
   },
   "file_extension": ".py",
   "mimetype": "text/x-python",
   "name": "python",
   "nbconvert_exporter": "python",
   "pygments_lexer": "ipython3",
   "version": "3.6.0"
  }
 },
 "nbformat": 4,
 "nbformat_minor": 2
}
