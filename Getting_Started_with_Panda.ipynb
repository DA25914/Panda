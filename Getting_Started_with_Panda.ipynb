{
 "cells": [
  {
   "cell_type": "markdown",
   "metadata": {},
   "source": [
    "# Collecting Data with Panda"
   ]
  },
  {
   "cell_type": "markdown",
   "metadata": {},
   "source": [
    "## Runing Panda\n",
    "* Run block \"Start Panda\" from a termnial with the same path as this notebook\n",
    "    * The reason for this is that you have to interact with the terminal after QEMU boots\n",
    "* To start recording the session\n",
    "    * `begin_record <recording_name>`\n",
    "* To end the recording \n",
    "    * `end_record`"
   ]
  },
  {
   "cell_type": "code",
   "execution_count": 170,
   "metadata": {
    "collapsed": false,
    "scrolled": true
   },
   "outputs": [
    {
     "name": "stdout",
     "output_type": "stream",
     "text": [
      "QEMU 2.8.50 monitor - type 'help' for more information\r\n",
      "(qemu) "
     ]
    }
   ],
   "source": [
    "%%bash\n",
    ". ~/.bashrc #Start Panda (Run from terminal)\n",
    ".././qemu-system-i386 -hda OS/wheezy_panda2.qcow2 -m 3500 -net nic -net user -monitor stdio"
   ]
  },
  {
   "cell_type": "markdown",
   "metadata": {},
   "source": [
    "## Runing Asidstory\n",
    "* Run block \"Collect System Call Data\" \n",
    "    * Change for the correct `./Recordings/<recording_name>` \n",
    "    * Change the output filename `<gitPull_raw.txt>`"
   ]
  },
  {
   "cell_type": "code",
   "execution_count": 189,
   "metadata": {
    "collapsed": false
   },
   "outputs": [
    {
     "name": "stdout",
     "output_type": "stream",
     "text": [
      "os_type=2 bits=32 os_details=[lava32]\n",
      "panda_require: osi\n",
      "Looking for kconffile in /opt/panda3/panda/i386-softmmu/Debian7/.././panda/plugins/osi_linux/kernelinfo.conf\n",
      "OSI grabbing Linux introspection backend.\n",
      "Linux OSI, using group lava32:32 from /opt/panda3/panda/i386-softmmu/panda/plugins/osi_linux/kernelinfo.conf.\n",
      "panda_require: osi_linux\n",
      "loading snapshot\n",
      "... done.\n",
      "opening nondet log for read :\t./Recordings/gitPull-rr-nondet.log\n",
      "max_instr = 455574782\n",
      "./Recordings/gitPull-rr-nondet.log:   455574782 instrs total.\n",
      "gitPull:     4614315 (  1.01%) instrs.    2.02 sec.  0.19 GB ram.\n",
      "gitPull:     9140961 (  2.01%) instrs.    3.02 sec.  0.20 GB ram.\n",
      "gitPull:    13673790 (  3.00%) instrs.    4.22 sec.  0.21 GB ram.\n",
      "gitPull:    18307630 (  4.02%) instrs.    5.61 sec.  0.21 GB ram.\n",
      "gitPull:    22793970 (  5.00%) instrs.    6.88 sec.  0.21 GB ram.\n",
      "gitPull:    27473083 (  6.03%) instrs.    8.16 sec.  0.21 GB ram.\n",
      "gitPull:    31936548 (  7.01%) instrs.    9.46 sec.  0.21 GB ram.\n",
      "gitPull:    36482125 (  8.01%) instrs.   10.22 sec.  0.21 GB ram.\n",
      "gitPull:    41351671 (  9.08%) instrs.   11.93 sec.  0.21 GB ram.\n",
      "gitPull:    46080265 ( 10.11%) instrs.   13.87 sec.  0.21 GB ram.\n",
      "gitPull:    50409744 ( 11.07%) instrs.   15.29 sec.  0.21 GB ram.\n",
      "gitPull:    55248224 ( 12.13%) instrs.   16.90 sec.  0.21 GB ram.\n",
      "gitPull:    59456362 ( 13.05%) instrs.   18.28 sec.  0.21 GB ram.\n",
      "gitPull:    64367536 ( 14.13%) instrs.   19.88 sec.  0.21 GB ram.\n",
      "gitPull:    68586709 ( 15.05%) instrs.   21.26 sec.  0.21 GB ram.\n",
      "gitPull:    73421343 ( 16.12%) instrs.   22.86 sec.  0.21 GB ram.\n",
      "gitPull:    77736724 ( 17.06%) instrs.   24.28 sec.  0.21 GB ram.\n",
      "gitPull:    82228153 ( 18.05%) instrs.   25.72 sec.  0.21 GB ram.\n",
      "gitPull:    86603526 ( 19.01%) instrs.   27.16 sec.  0.21 GB ram.\n",
      "gitPull:    91542270 ( 20.09%) instrs.   28.78 sec.  0.21 GB ram.\n",
      "gitPull:    95880860 ( 21.05%) instrs.   30.38 sec.  0.21 GB ram.\n",
      "gitPull:   100787970 ( 22.12%) instrs.   31.98 sec.  0.21 GB ram.\n",
      "gitPull:   105001357 ( 23.05%) instrs.   33.36 sec.  0.21 GB ram.\n",
      "gitPull:   109541616 ( 24.04%) instrs.   34.86 sec.  0.21 GB ram.\n",
      "gitPull:   113897046 ( 25.00%) instrs.   36.28 sec.  0.21 GB ram.\n",
      "gitPull:   118557203 ( 26.02%) instrs.   37.69 sec.  0.21 GB ram.\n",
      "gitPull:   123645082 ( 27.14%) instrs.   39.27 sec.  0.21 GB ram.\n",
      "gitPull:   128067728 ( 28.11%) instrs.   40.62 sec.  0.21 GB ram.\n",
      "gitPull:   132614149 ( 29.11%) instrs.   42.00 sec.  0.21 GB ram.\n",
      "gitPull:   137147263 ( 30.10%) instrs.   43.38 sec.  0.21 GB ram.\n",
      "gitPull:   141670453 ( 31.10%) instrs.   44.74 sec.  0.21 GB ram.\n",
      "gitPull:   146190188 ( 32.09%) instrs.   46.11 sec.  0.21 GB ram.\n",
      "gitPull:   150629805 ( 33.06%) instrs.   47.48 sec.  0.21 GB ram.\n",
      "gitPull:   155241624 ( 34.08%) instrs.   48.86 sec.  0.21 GB ram.\n",
      "gitPull:   159771333 ( 35.07%) instrs.   50.27 sec.  0.21 GB ram.\n",
      "gitPull:   164733871 ( 36.16%) instrs.   51.83 sec.  0.21 GB ram.\n",
      "gitPull:   168950939 ( 37.09%) instrs.   53.16 sec.  0.21 GB ram.\n",
      "gitPull:   173321797 ( 38.04%) instrs.   54.52 sec.  0.21 GB ram.\n",
      "gitPull:   177683089 ( 39.00%) instrs.   55.89 sec.  0.21 GB ram.\n",
      "gitPull:   182652665 ( 40.09%) instrs.   57.45 sec.  0.21 GB ram.\n",
      "gitPull:   187027904 ( 41.05%) instrs.   58.83 sec.  0.21 GB ram.\n",
      "gitPull:   191374084 ( 42.01%) instrs.   60.23 sec.  0.21 GB ram.\n",
      "gitPull:   196437213 ( 43.12%) instrs.   61.90 sec.  0.21 GB ram.\n",
      "gitPull:   200785439 ( 44.07%) instrs.   63.33 sec.  0.21 GB ram.\n",
      "gitPull:   205133061 ( 45.03%) instrs.   64.70 sec.  0.21 GB ram.\n",
      "gitPull:   209664439 ( 46.02%) instrs.   66.14 sec.  0.21 GB ram.\n",
      "gitPull:   214173136 ( 47.01%) instrs.   67.62 sec.  0.21 GB ram.\n",
      "gitPull:   219183710 ( 48.11%) instrs.   69.24 sec.  0.21 GB ram.\n",
      "gitPull:   223463381 ( 49.05%) instrs.   70.63 sec.  0.21 GB ram.\n",
      "gitPull:   227829180 ( 50.01%) instrs.   71.99 sec.  0.21 GB ram.\n",
      "gitPull:   232786384 ( 51.10%) instrs.   73.89 sec.  0.21 GB ram.\n",
      "gitPull:   237114211 ( 52.05%) instrs.   75.26 sec.  0.21 GB ram.\n",
      "gitPull:   242139594 ( 53.15%) instrs.   76.86 sec.  0.21 GB ram.\n",
      "gitPull:   246489563 ( 54.11%) instrs.   78.28 sec.  0.21 GB ram.\n",
      "gitPull:   250827974 ( 55.06%) instrs.   79.77 sec.  0.21 GB ram.\n",
      "gitPull:   255138274 ( 56.00%) instrs.   81.24 sec.  0.21 GB ram.\n",
      "gitPull:   260071361 ( 57.09%) instrs.   82.88 sec.  0.21 GB ram.\n",
      "gitPull:   264307293 ( 58.02%) instrs.   84.29 sec.  0.21 GB ram.\n",
      "gitPull:   269143142 ( 59.08%) instrs.   85.85 sec.  0.21 GB ram.\n",
      "gitPull:   273351639 ( 60.00%) instrs.   87.21 sec.  0.21 GB ram.\n",
      "gitPull:   278156638 ( 61.06%) instrs.   88.83 sec.  0.21 GB ram.\n",
      "gitPull:   283130362 ( 62.15%) instrs.   90.42 sec.  0.21 GB ram.\n",
      "gitPull:   287453501 ( 63.10%) instrs.   91.82 sec.  0.21 GB ram.\n",
      "gitPull:   291651517 ( 64.02%) instrs.   93.20 sec.  0.21 GB ram.\n",
      "gitPull:   296624208 ( 65.11%) instrs.   94.83 sec.  0.21 GB ram.\n",
      "gitPull:   300898627 ( 66.05%) instrs.   96.18 sec.  0.21 GB ram.\n",
      "gitPull:   305772578 ( 67.12%) instrs.   97.78 sec.  0.21 GB ram.\n",
      "gitPull:   309791825 ( 68.00%) instrs.   99.07 sec.  0.21 GB ram.\n",
      "gitPull:   314520835 ( 69.04%) instrs.  100.57 sec.  0.21 GB ram.\n",
      "gitPull:   319132499 ( 70.05%) instrs.  102.09 sec.  0.21 GB ram.\n",
      "gitPull:   323682307 ( 71.05%) instrs.  103.55 sec.  0.21 GB ram.\n",
      "gitPull:   328664993 ( 72.14%) instrs.  105.13 sec.  0.21 GB ram.\n",
      "gitPull:   332580839 ( 73.00%) instrs.  106.41 sec.  0.21 GB ram.\n",
      "gitPull:   337365811 ( 74.05%) instrs.  107.60 sec.  0.22 GB ram.\n",
      "gitPull:   342166783 ( 75.11%) instrs.  108.84 sec.  0.22 GB ram.\n",
      "gitPull:   346853987 ( 76.14%) instrs.  110.31 sec.  0.22 GB ram.\n",
      "gitPull:   351179858 ( 77.09%) instrs.  111.65 sec.  0.22 GB ram.\n",
      "gitPull:   355431895 ( 78.02%) instrs.  112.96 sec.  0.22 GB ram.\n",
      "gitPull:   360025399 ( 79.03%) instrs.  114.40 sec.  0.22 GB ram.\n",
      "gitPull:   364576891 ( 80.03%) instrs.  115.83 sec.  0.22 GB ram.\n",
      "gitPull:   369539161 ( 81.11%) instrs.  117.38 sec.  0.22 GB ram.\n",
      "gitPull:   373796842 ( 82.05%) instrs.  118.76 sec.  0.22 GB ram.\n",
      "gitPull:   378723006 ( 83.13%) instrs.  120.32 sec.  0.22 GB ram.\n",
      "gitPull:   382709265 ( 84.01%) instrs.  121.60 sec.  0.22 GB ram.\n",
      "gitPull:   387326312 ( 85.02%) instrs.  123.03 sec.  0.22 GB ram.\n",
      "gitPull:   392256384 ( 86.10%) instrs.  124.56 sec.  0.22 GB ram.\n",
      "gitPull:   396827394 ( 87.10%) instrs.  125.97 sec.  0.22 GB ram.\n",
      "gitPull:   401126029 ( 88.05%) instrs.  127.29 sec.  0.22 GB ram.\n",
      "gitPull:   405971052 ( 89.11%) instrs.  128.79 sec.  0.22 GB ram.\n",
      "gitPull:   410164181 ( 90.03%) instrs.  130.10 sec.  0.22 GB ram.\n",
      "gitPull:   414700153 ( 91.03%) instrs.  131.34 sec.  0.22 GB ram.\n",
      "gitPull:   419648813 ( 92.11%) instrs.  132.77 sec.  0.22 GB ram.\n",
      "gitPull:   423931778 ( 93.05%) instrs.  133.84 sec.  0.22 GB ram.\n",
      "gitPull:   428280074 ( 94.01%) instrs.  135.17 sec.  0.22 GB ram.\n",
      "gitPull:   432902202 ( 95.02%) instrs.  136.48 sec.  0.23 GB ram.\n",
      "gitPull:   437364981 ( 96.00%) instrs.  137.30 sec.  0.23 GB ram.\n",
      "gitPull:   442087074 ( 97.04%) instrs.  138.01 sec.  0.23 GB ram.\n",
      "gitPull:   446616717 ( 98.03%) instrs.  139.30 sec.  0.24 GB ram.\n",
      "gitPull:   451184454 ( 99.04%) instrs.  140.36 sec.  0.24 GB ram.\n",
      "./Recordings/gitPull-rr-nondet.log:  log is empty.\n",
      "Replay completed successfully. 1\n",
      "Time taken was: 142 seconds.\n",
      "Stats:\n",
      "RR_INPUT_1 number = 0, size = 0 bytes\n",
      "RR_INPUT_2 number = 0, size = 0 bytes\n",
      "RR_INPUT_4 number = 2392, size = 33488 bytes\n",
      "RR_INPUT_8 number = 16147, size = 290646 bytes\n",
      "RR_INTERRUPT_REQUEST number = 4633, size = 64862 bytes\n",
      "RR_EXIT_REQUEST number = 0, size = 0 bytes\n",
      "RR_SKIPPED_CALL number = 68, size = 8731 bytes\n",
      "max_queue_len = 325\n",
      "Replay completed successfully 2.\n"
     ]
    },
    {
     "name": "stderr",
     "output_type": "stream",
     "text": [
      "Initializing plugin asidstory\n",
      "Initializing plugin osi\n",
      "Initializing plugin osi_linux\n",
      "INFO(/opt/panda3/panda/panda/plugins/osi_linux/osi_linux.cpp:init_plugin): Read kernel info from group \"lava32:32\" of file \"/opt/panda3/panda/i386-softmmu/panda/plugins/osi_linux/kernelinfo.conf\".\n",
      "INFO(/opt/panda3/panda/panda/plugins/osi_linux/osi_linux.cpp:init_plugin): osi_linux initialization complete.\n"
     ]
    }
   ],
   "source": [
    "%%bash\n",
    ". ~/.bashrc #Collect Pandalog Data\n",
    ".././qemu-system-i386 -m 3500 -replay ./Recordings/gitPull -panda asidstory  -os linux-32-lava32"
   ]
  },
  {
   "cell_type": "markdown",
   "metadata": {},
   "source": [
    "## Running Syscall2\n",
    "* Run block \"Collect System Call Data\" \n",
    "    * Change for the correct `./Recordings/<recording_name>` \n",
    "    * Change the output filename `Syscall_Data/<gitPull_raw.txt>`"
   ]
  },
  {
   "cell_type": "code",
   "execution_count": 184,
   "metadata": {
    "collapsed": false
   },
   "outputs": [
    {
     "name": "stderr",
     "output_type": "stream",
     "text": [
      "Initializing plugin syscalls2\n"
     ]
    }
   ],
   "source": [
    "%%bash\n",
    ". ~/.bashrc #Collect System Call Data \n",
    ".././qemu-system-i386 -m 3500 -replay ./Recordings/gitPull -panda syscalls2:profile=linux_x86 -os linux-32-lava32 \\\n",
    "    > Syscall_Data/gitPull_raw1.txt"
   ]
  },
  {
   "cell_type": "markdown",
   "metadata": {},
   "source": [
    "## Parsing Syscall2 Data\n",
    "* Run the following three blocks of code\n",
    "    * Imports\n",
    "    * "
   ]
  },
  {
   "cell_type": "code",
   "execution_count": 12,
   "metadata": {
    "collapsed": true
   },
   "outputs": [],
   "source": [
    "#Imports \n",
    "import glob #used for file IO\n",
    "import csv #used to write csv file\\n"
   ]
  },
  {
   "cell_type": "code",
   "execution_count": 28,
   "metadata": {
    "collapsed": false
   },
   "outputs": [],
   "source": [
    "#Parse file to readable .csv file\n",
    "raw = \"test.txt\" #this should match the filename in \n",
    "out = \"no_overflow_0.csv\"\n",
    "rawFile = open(\"Syscall_Data/\"+raw)\n",
    "csvFile = open(\"Syscall_Data/\"+out, 'w')\n",
    "csvWriter = csv.writer(csvFile)\n",
    "csvWriter.writerow(['Program Counter', 'Panda Current ASID', 'Process Name',\n",
    "                    'Syscall Return Type','System Call Name','System Call Number']) #header\n",
    "setupSyscall()\n",
    "for line in rawFile:\n",
    "    words =  line.split(\" \")\n",
    "    if(words[0] == \"Syscall:\"):\n",
    "        csvWriter.writerow( [words[1].strip(), words[2].strip(), words[3].strip(),words[4].strip(),\n",
    "                             syscalls.get(int(words[4]), [\"error\",\"error\"])[0], syscalls.get(int(words[4]), [\"error\",\"error\"])[1] ])\n",
    "rawFile.close()\n",
    "csvFile.close()"
   ]
  },
  {
   "cell_type": "code",
   "execution_count": 17,
   "metadata": {
    "collapsed": false
   },
   "outputs": [],
   "source": [
    "#Returns more information on the System Call\n",
    "syscalls = {}\n",
    "def setupSyscall():\n",
    "    syscalltype = open(\"../panda/panda/plugins/syscalls2/linux_x86_prototypes.txt\")\n",
    "    for line in syscalltype:\n",
    "        words = line.split(\" \")\n",
    "        syscalls[int(words[0])] = [words[1],\" \".join(words[2:]).strip()]\n"
   ]
  },
  {
   "cell_type": "code",
   "execution_count": null,
   "metadata": {
    "collapsed": true
   },
   "outputs": [],
   "source": []
  }
 ],
 "metadata": {
  "kernelspec": {
   "display_name": "Python 3",
   "language": "python",
   "name": "python3"
  },
  "language_info": {
   "codemirror_mode": {
    "name": "ipython",
    "version": 3
   },
   "file_extension": ".py",
   "mimetype": "text/x-python",
   "name": "python",
   "nbconvert_exporter": "python",
   "pygments_lexer": "ipython3",
   "version": "3.6.0"
  }
 },
 "nbformat": 4,
 "nbformat_minor": 2
}
